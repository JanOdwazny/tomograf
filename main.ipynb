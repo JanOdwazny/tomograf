{
 "cells": [
  {
   "cell_type": "code",
   "execution_count": null,
   "metadata": {},
   "outputs": [],
   "source": [
    "import cv2\n",
    "import tkinter as tk\n",
    "\n",
    "import datetime\n",
    "import os\n",
    "\n",
    "from math import degrees, radians\n",
    "from pprint import pprint\n",
    "\n",
    "import numpy as np\n",
    "import pydicom\n",
    "\n",
    "from skimage.io import imread\n",
    "from skimage.draw import circle, line\n",
    "from skimage.color import gray2rgb, rgb2gray\n",
    "\n",
    "from scipy.fftpack import fft, ifft, fftfreq\n",
    "\n",
    "import matplotlib.pyplot as plt\n"
   ]
  },
  {
   "cell_type": "code",
   "execution_count": null,
   "metadata": {},
   "outputs": [],
   "source": [
    "# def choose_file(window_title):\n",
    "#     root = Tk()\n",
    "#     filename = askopenfilename(initialdir=\"..\", title=window_title,\n",
    "#                                filetypes=((\"jpeg files\", \".jpg\"), (\"all files\", \".\")))\n",
    "#     root.destroy()\n",
    "#     return filename\n",
    "\n",
    "\n",
    "# filename = choose_file(\"wybierz zdjecie\")\n",
    "filename = \"\"\n",
    "img = cv2.imread(filename, 0)\n",
    "img = cv2.resize(img,(512,512))\n",
    "img = cv2.normalize(img,None,0,255,cv2.NORM_MINMAX)\n",
    "R=img.shape[0]/2"
   ]
  }
 ],
 "metadata": {
  "language_info": {
   "name": "python"
  }
 },
 "nbformat": 4,
 "nbformat_minor": 2
}
